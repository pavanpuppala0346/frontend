{
 "cells": [
  {
   "cell_type": "markdown",
   "metadata": {},
   "source": [
    "#### Windows Setup"
   ]
  },
  {
   "cell_type": "markdown",
   "metadata": {},
   "source": [
    "#### 2. system Requirements\n",
    "The following hardware prerequisites are required to successfully setup CCBP IDE in your Windows System\n",
    "- A 64-bit Windows 10 with Version 1903 or higher, with a Build higher than 18363.1049.\n",
    "- A 15 GB free space on C: Drive\n",
    "- 8 GB system RAM (Minimum).\n",
    "- BIOS-level hardware virtualization support must be enabled in the BIOS settings.\n",
    "\n",
    "#### 3. Enable WSL Feature\n",
    "- Open PowerShell as Administrator and run:\n",
    "- dism.exe /online /enable-feature /featurename:Microsoft-Windows-Subsystem-Linux /all /norestart\n",
    "\n",
    "#### 4. Enable Virtual Machine Feature\n",
    "Enable the Virtual Machine Platform feature. Your system will require BIOS-level hardware virtualization support which must be enabled in the BIOS settings.\n",
    "- You can check whether virtualization support is enabled by checking your Task Manager.\n",
    "- Open PowerShell as Administrator and run:\n",
    "- dism.exe /online /enable-feature /featurename:VirtualMachinePlatform /all /norestart\n",
    "- restart PC\n",
    "\n",
    "#### 5. Download Kernel Package\n",
    "- Download the latest WSL2 Linux kernel update package for x64 PCs\n",
    "- https://wslstorestorage.blob.core.windows.net/wslblob/wsl_update_x64.msi\n",
    "- Run the update package downloaded in the previous step. (Double-click to run - you will be prompted for elevated permissions, select \"yes\" to approve this installation.)\n",
    "\n",
    "#### 6. Set WSL 2 as your default version\n",
    "- Open PowerShell and run this command to set WSL 2 as the default version.\n",
    "- wsl --set-default-version 2\n",
    "\n",
    "#### 7. Install Linux Distribution\n",
    "- Install Ubuntu from Microsoft Store.\n",
    "- https://apps.microsoft.com/store/detail/ubuntu-on-windows/9NBLGGH4MSV6?hl=en-in&gl=in\n",
    "- Once the installation is complete, open \"Ubuntu\" from start-menu.\n",
    "- Enter a new username and password for the WSL environment when prompted.\n",
    "\n",
    "\n",
    "#### 8. Setup Docker\n",
    "- Download Docker Installer and double-click Docker Desktop Installer.exe from your admin account to run the installer.\n",
    "- https://docs.docker.com/desktop/install/windows-install/\n",
    "- When prompted, ensure the Enable WSL 2 Features option is selected on the Configuration page.\n",
    "- Follow the instructions on the installation wizard authorize the installer and proceed with the install.\n",
    "- When the installation is successful, click Close to complete the installation process.\n",
    "- To start Docker Desktop, search for Docker, and select Docker Desktop in the search results.\n",
    "- Open Docker app --> settings --> Resources --> WSL Integration --> enable --> apply and reset button\n",
    "- When the whale icon in the status bar stays steady, Docker Desktop is up-and-running, and is accessible from any terminal window.\n",
    "- Enable Docker Integration with the WSL\n",
    "\n",
    "#### 9. Using docker from WSL\n",
    "- Now search for Ubuntu in your installed applications and start the application. A terminal will be opened.\n",
    "- Run the below command to see the docker version\n",
    "- docker -v\n",
    "- Run the below command to install the prerequisites for the IDE\n",
    "- curl -s https://assets.ccbp.in/ide/windows-post-docker-installation.sh | bash\n",
    "- restart your pc\n",
    "\n",
    "### Starting the IDE\n",
    "- Open the Ubuntu application and run the below step to start the IDE\n",
    "- cd ~/ccbp-ide && docker-compose up -d\n",
    "- Access the IDE from http://localhost"
   ]
  },
  {
   "cell_type": "markdown",
   "metadata": {},
   "source": [
    "#### 10. Setting up a sample workspace\n",
    "Now your IDE is ready, let’s create a sample workspace by running the following commands\n",
    "- Step - 1 : Authentication\n",
    "    - Authenticate to Advance Learning Portal\n",
    "    - ccbp authenticate 11IPRSRRI4\n",
    "- Step - 2 : Start a sample project\n",
    "    - Create a sample workspace and get the project’s files\n",
    "    - ccbp start FNLL8QE5WE\n",
    "\n",
    "Right click on the index.html, select Open With -> Preview to view the output\n",
    "And you are all set for working on your further projects! \n"
   ]
  },
  {
   "cell_type": "markdown",
   "metadata": {},
   "source": []
  },
  {
   "cell_type": "markdown",
   "metadata": {},
   "source": [
    "\n"
   ]
  },
  {
   "cell_type": "code",
   "execution_count": null,
   "metadata": {},
   "outputs": [],
   "source": []
  }
 ],
 "metadata": {
  "kernelspec": {
   "display_name": "Python 3",
   "language": "python",
   "name": "python3"
  },
  "language_info": {
   "codemirror_mode": {
    "name": "ipython",
    "version": 3
   },
   "file_extension": ".py",
   "mimetype": "text/x-python",
   "name": "python",
   "nbconvert_exporter": "python",
   "pygments_lexer": "ipython3",
   "version": "3.6.5"
  }
 },
 "nbformat": 4,
 "nbformat_minor": 2
}
